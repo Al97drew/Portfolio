{
 "cells": [
  {
   "cell_type": "code",
   "execution_count": 3,
   "metadata": {},
   "outputs": [
    {
     "ename": "NameError",
     "evalue": "name 'input_data' is not defined",
     "output_type": "error",
     "traceback": [
      "\u001b[1;31m---------------------------------------------------------------------------\u001b[0m",
      "\u001b[1;31mNameError\u001b[0m                                 Traceback (most recent call last)",
      "\u001b[1;32m<ipython-input-3-27e027369573>\u001b[0m in \u001b[0;36m<module>\u001b[1;34m()\u001b[0m\n\u001b[0;32m     35\u001b[0m     \u001b[0minput_data\u001b[0m \u001b[1;33m=\u001b[0m\u001b[1;34m'C:\\\\Users\\\\User\\\\Documents\\\\anacondaStuff\\\\DataForTask\\\\INeedHelp.txt'\u001b[0m\u001b[1;33m\u001b[0m\u001b[0m\n\u001b[0;32m     36\u001b[0m \u001b[1;33m\u001b[0m\u001b[0m\n\u001b[1;32m---> 37\u001b[1;33m \u001b[0mtraining_feature_names\u001b[0m\u001b[1;33m,\u001b[0m \u001b[0mtraining_instances\u001b[0m\u001b[1;33m,\u001b[0m \u001b[0mtraining_labels\u001b[0m \u001b[1;33m=\u001b[0m \u001b[0mload_data_from_csv\u001b[0m\u001b[1;33m(\u001b[0m\u001b[0minput_csv\u001b[0m\u001b[1;33m=\u001b[0m\u001b[0minput_data\u001b[0m\u001b[1;33m)\u001b[0m\u001b[1;33m\u001b[0m\u001b[0m\n\u001b[0m\u001b[0;32m     38\u001b[0m \u001b[1;33m\u001b[0m\u001b[0m\n\u001b[0;32m     39\u001b[0m \u001b[0mplt\u001b[0m\u001b[1;33m.\u001b[0m\u001b[0mplot\u001b[0m\u001b[1;33m(\u001b[0m\u001b[1;33m[\u001b[0m\u001b[1;36m0.1\u001b[0m\u001b[1;33m,\u001b[0m\u001b[1;36m0.2\u001b[0m\u001b[1;33m,\u001b[0m\u001b[1;36m0.3\u001b[0m\u001b[1;33m,\u001b[0m\u001b[1;36m0.4\u001b[0m\u001b[1;33m]\u001b[0m\u001b[1;33m,\u001b[0m \u001b[1;33m[\u001b[0m\u001b[1;36m0.6\u001b[0m\u001b[1;33m,\u001b[0m\u001b[1;36m0.7\u001b[0m\u001b[1;33m,\u001b[0m\u001b[1;36m0.8\u001b[0m\u001b[1;33m,\u001b[0m\u001b[1;36m0.9\u001b[0m\u001b[1;33m]\u001b[0m\u001b[1;33m,\u001b[0m \u001b[1;34m'ro'\u001b[0m\u001b[1;33m)\u001b[0m\u001b[1;33m\u001b[0m\u001b[0m\n",
      "\u001b[1;31mNameError\u001b[0m: name 'input_data' is not defined"
     ]
    }
   ],
   "source": [
    "import numpy as np\n",
    "import pandas as pd\n",
    "import matplotlib.pyplot as plt\n",
    "from matplotlib import cm\n",
    "from mpl_toolkits.mplot3d import Axes3D\n",
    "\n",
    "def load_data_from_csv(input_csv):\n",
    "    # read pandas function and loads a csv file into a dataFrame\n",
    "    #first line of the csv is header=0 which contains headings\n",
    "    df = pd.read_csv(input_csv, header=0)\n",
    "    # store csv headings\n",
    "    csv_headings = list(df.columns.values)\n",
    "    # the first n-1 items of the csv_headings are teh feature names\n",
    "    feature_names = csv_headings[:len(csv_headings) - 1]\n",
    "    # the last item of the csv_heading is the name of the label\n",
    "    label_name = csv_headings[len(csv_headings) - 1:len(csv_headings)][0]\n",
    "    # get the numeric data of the csv file and store them in a numpy array\n",
    "    df = df._get_numeric_data()\n",
    "    numpy_array = df.as_matrix()\n",
    "    # get number of rows and number of columns from mnumpy array\n",
    "    number_of_rows, number_of_columns = numpy_array.shape\n",
    "    # n-1 column of the numpy array corresponds rothe instance\n",
    "    instances = numpy_array[:, 0:number_of_columns - 1]\n",
    "    # last column of the numpy array corresponds to the labels\n",
    "    labels = []\n",
    "    for label in numpy_array[:, number_of_columns - 1:number_of_columns].tolist():\n",
    "        labels.append(label[0])\n",
    "    return feature_names, instances, labels\n",
    "\n",
    "\n",
    "def load_data_for_graph(input_csv):\n",
    "    \n",
    "    \n",
    "    \n",
    "input_data ='C:\\\\Users\\\\User\\\\Documents\\\\anacondaStuff\\\\DataForTask\\\\INeedHelp.txt'\n",
    "\n",
    "training_feature_names, training_instances, training_labels = load_data_from_csv(input_csv=input_data)\n",
    "\n",
    "plt.plot([0.1,0.2,0.3,0.4], [0.6,0.7,0.8,0.9], 'ro')\n",
    "plt.axis(0,10,0,2000)\n",
    "\n",
    "plt.show()"
   ]
  },
  {
   "cell_type": "code",
   "execution_count": null,
   "metadata": {},
   "outputs": [],
   "source": []
  }
 ],
 "metadata": {
  "kernelspec": {
   "display_name": "Python 3",
   "language": "python",
   "name": "python3"
  },
  "language_info": {
   "codemirror_mode": {
    "name": "ipython",
    "version": 3
   },
   "file_extension": ".py",
   "mimetype": "text/x-python",
   "name": "python",
   "nbconvert_exporter": "python",
   "pygments_lexer": "ipython3",
   "version": "3.6.5"
  }
 },
 "nbformat": 4,
 "nbformat_minor": 2
}
