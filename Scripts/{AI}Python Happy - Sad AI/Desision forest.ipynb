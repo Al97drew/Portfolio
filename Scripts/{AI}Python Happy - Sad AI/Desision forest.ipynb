{
 "cells": [
  {
   "cell_type": "code",
   "execution_count": null,
   "metadata": {
    "collapsed": true
   },
   "outputs": [],
   "source": [
    "import argparse\n",
    "\n",
    "import numpy as np\n",
    "import matplotlib.pyplot as plt\n",
    "from sklearn.metrics import classification_report\n",
    "from sklearn import cross_validation\n",
    "from sklearn.ensemble import RandomForestClassifier, ExtraTreesClassifier\n",
    "from sklearn import cross_validation\n",
    "from sklearn.metrics import classification_report\n",
    "\n",
    "from utilities import visualize_classifier\n",
    "\n",
    "# Argument parser\n",
    "def build_arg_parser():\n",
    "    parser = argparse.ArgumentParser(description='Classify data using \\\n",
    "    Ensemble Learning techniques')\n",
    "    parser.add_argument('--classifier-type', dest='classifier_type',\n",
    "                        required=True, choices=['rf', 'erf'], help=\"Type of classifier\"\n",
    "                        \\to use; can be either 'rf' or 'erf'\")\n",
    "    return parser\n",
    "                        \n",
    "   if __name__=='__main__':"
   ]
  }
 ],
 "metadata": {
  "kernelspec": {
   "display_name": "Python 3",
   "language": "python",
   "name": "python3"
  },
  "language_info": {
   "codemirror_mode": {
    "name": "ipython",
    "version": 3
   },
   "file_extension": ".py",
   "mimetype": "text/x-python",
   "name": "python",
   "nbconvert_exporter": "python",
   "pygments_lexer": "ipython3",
   "version": "3.6.3"
  }
 },
 "nbformat": 4,
 "nbformat_minor": 2
}
