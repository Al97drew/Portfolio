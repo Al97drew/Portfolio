{
 "cells": [
  {
   "cell_type": "code",
   "execution_count": 1,
   "metadata": {},
   "outputs": [
    {
     "ename": "ModuleNotFoundError",
     "evalue": "No module named 'tweepy'",
     "output_type": "error",
     "traceback": [
      "\u001b[1;31m---------------------------------------------------------------------------\u001b[0m",
      "\u001b[1;31mModuleNotFoundError\u001b[0m                       Traceback (most recent call last)",
      "\u001b[1;32m<ipython-input-1-67e64cfb076a>\u001b[0m in \u001b[0;36m<module>\u001b[1;34m()\u001b[0m\n\u001b[0;32m      1\u001b[0m \u001b[1;32mimport\u001b[0m \u001b[0mjson\u001b[0m\u001b[1;33m\u001b[0m\u001b[0m\n\u001b[1;32m----> 2\u001b[1;33m \u001b[1;32mimport\u001b[0m \u001b[0mtweepy\u001b[0m\u001b[1;33m\u001b[0m\u001b[0m\n\u001b[0m\u001b[0;32m      3\u001b[0m \u001b[1;32mimport\u001b[0m \u001b[0mtime\u001b[0m\u001b[1;33m\u001b[0m\u001b[0m\n\u001b[0;32m      4\u001b[0m \u001b[1;32mfrom\u001b[0m \u001b[0mtweepy\u001b[0m \u001b[1;32mimport\u001b[0m \u001b[0mOAuthHandler\u001b[0m\u001b[1;33m\u001b[0m\u001b[0m\n\u001b[0;32m      5\u001b[0m \u001b[1;32mfrom\u001b[0m \u001b[0mtweepy\u001b[0m \u001b[1;32mimport\u001b[0m \u001b[0mStream\u001b[0m\u001b[1;33m\u001b[0m\u001b[0m\n",
      "\u001b[1;31mModuleNotFoundError\u001b[0m: No module named 'tweepy'"
     ]
    }
   ],
   "source": [
    "import json\n",
    "import tweepy\n",
    "import time\n",
    "from tweepy import OAuthHandler\n",
    "from tweepy import Stream\n",
    "from tweepy.streaming import StreamListener\n",
    "\n",
    "consumer_key = '**************'\n",
    "consumer_secret = '***********************************'\n",
    "access_token = '***************************************'\n",
    "access_secret = '***************************************'\n",
    " \n",
    "auth = OAuthHandler(consumer_key, consumer_secret)\n",
    "auth.set_access_token(access_token, access_secret)\n",
    " \n",
    "api = tweepy.API(auth)\n",
    "\n",
    "with open('botbothelp.json', 'r') as json_file:\n",
    "    tweets = json.loads(json_file.read())\n",
    "\n",
    "class MyListener(StreamListener):\n",
    "\n",
    "        def on_data(self, data):\n",
    "            if '' in data.lower() and 'retweeted_status' not in data:\n",
    "                tweet = json.loads(data)\n",
    "                print('--- Tweet found ---\\nUser: ' + tweet['user']['name'] + '\\nTweet: ' + tweet['text'])\n",
    "                try:\n",
    "                    tweets.append(tweet)\n",
    "                    with open('botbothelp.json', 'w') as f:\n",
    "                        f.write(json.dumps(tweets))\n",
    "                    time.sleep(.5)\n",
    "                    return True\n",
    "                except BaseException as e:\n",
    "                    print(\"Error on_data: %s\" % str(e))\n",
    "                return True\n",
    "            else:\n",
    "                print('--- Retweet found ---\\nIgnoring...')\n",
    "                time.sleep(.5)\n",
    "\n",
    "            def on_error(self, status):\n",
    "                print(status)\n",
    "                return True\n",
    "\n",
    "\n",
    "twitter_stream = Stream(auth, MyListener())\n",
    "twitter_stream.filter(track=['#Happy','#Sad'])"
   ]
  },
  {
   "cell_type": "code",
   "execution_count": null,
   "metadata": {},
   "outputs": [],
   "source": []
  }
 ],
 "metadata": {
  "kernelspec": {
   "display_name": "Python 3",
   "language": "python",
   "name": "python3"
  },
  "language_info": {
   "codemirror_mode": {
    "name": "ipython",
    "version": 3
   },
   "file_extension": ".py",
   "mimetype": "text/x-python",
   "name": "python",
   "nbconvert_exporter": "python",
   "pygments_lexer": "ipython3",
   "version": "3.6.5"
  }
 },
 "nbformat": 4,
 "nbformat_minor": 2
}
